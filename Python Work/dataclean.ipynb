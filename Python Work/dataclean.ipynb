{
 "cells": [
  {
   "cell_type": "code",
   "execution_count": 27,
   "metadata": {},
   "outputs": [],
   "source": [
    "import pandas as pd\n",
    "import matplotlib.pyplot as plt\n",
    "import seaborn as sns\n",
    "import matplotlib.font_manager as fm"
   ]
  },
  {
   "cell_type": "markdown",
   "metadata": {},
   "source": [
    "1.導入csv數據集"
   ]
  },
  {
   "cell_type": "code",
   "execution_count": 28,
   "metadata": {},
   "outputs": [
    {
     "data": {
      "text/html": [
       "<div>\n",
       "<style scoped>\n",
       "    .dataframe tbody tr th:only-of-type {\n",
       "        vertical-align: middle;\n",
       "    }\n",
       "\n",
       "    .dataframe tbody tr th {\n",
       "        vertical-align: top;\n",
       "    }\n",
       "\n",
       "    .dataframe thead th {\n",
       "        text-align: right;\n",
       "    }\n",
       "</style>\n",
       "<table border=\"1\" class=\"dataframe\">\n",
       "  <thead>\n",
       "    <tr style=\"text-align: right;\">\n",
       "      <th></th>\n",
       "      <th>id</th>\n",
       "      <th>age</th>\n",
       "      <th>gender</th>\n",
       "      <th>income</th>\n",
       "      <th>spending_score</th>\n",
       "      <th>membership_years</th>\n",
       "      <th>purchase_frequency</th>\n",
       "      <th>preferred_category</th>\n",
       "      <th>last_purchase_amount</th>\n",
       "    </tr>\n",
       "  </thead>\n",
       "  <tbody>\n",
       "    <tr>\n",
       "      <th>0</th>\n",
       "      <td>1</td>\n",
       "      <td>38</td>\n",
       "      <td>Female</td>\n",
       "      <td>99342</td>\n",
       "      <td>90</td>\n",
       "      <td>3</td>\n",
       "      <td>24</td>\n",
       "      <td>Groceries</td>\n",
       "      <td>113.53</td>\n",
       "    </tr>\n",
       "    <tr>\n",
       "      <th>1</th>\n",
       "      <td>2</td>\n",
       "      <td>21</td>\n",
       "      <td>Female</td>\n",
       "      <td>78852</td>\n",
       "      <td>60</td>\n",
       "      <td>2</td>\n",
       "      <td>42</td>\n",
       "      <td>Sports</td>\n",
       "      <td>41.93</td>\n",
       "    </tr>\n",
       "    <tr>\n",
       "      <th>2</th>\n",
       "      <td>3</td>\n",
       "      <td>60</td>\n",
       "      <td>Female</td>\n",
       "      <td>126573</td>\n",
       "      <td>30</td>\n",
       "      <td>2</td>\n",
       "      <td>28</td>\n",
       "      <td>Clothing</td>\n",
       "      <td>424.36</td>\n",
       "    </tr>\n",
       "    <tr>\n",
       "      <th>3</th>\n",
       "      <td>4</td>\n",
       "      <td>40</td>\n",
       "      <td>Other</td>\n",
       "      <td>47099</td>\n",
       "      <td>74</td>\n",
       "      <td>9</td>\n",
       "      <td>5</td>\n",
       "      <td>Home &amp; Garden</td>\n",
       "      <td>991.93</td>\n",
       "    </tr>\n",
       "    <tr>\n",
       "      <th>4</th>\n",
       "      <td>5</td>\n",
       "      <td>65</td>\n",
       "      <td>Female</td>\n",
       "      <td>140621</td>\n",
       "      <td>21</td>\n",
       "      <td>3</td>\n",
       "      <td>25</td>\n",
       "      <td>Electronics</td>\n",
       "      <td>347.08</td>\n",
       "    </tr>\n",
       "    <tr>\n",
       "      <th>...</th>\n",
       "      <td>...</td>\n",
       "      <td>...</td>\n",
       "      <td>...</td>\n",
       "      <td>...</td>\n",
       "      <td>...</td>\n",
       "      <td>...</td>\n",
       "      <td>...</td>\n",
       "      <td>...</td>\n",
       "      <td>...</td>\n",
       "    </tr>\n",
       "    <tr>\n",
       "      <th>995</th>\n",
       "      <td>996</td>\n",
       "      <td>57</td>\n",
       "      <td>Male</td>\n",
       "      <td>112170</td>\n",
       "      <td>57</td>\n",
       "      <td>6</td>\n",
       "      <td>1</td>\n",
       "      <td>Clothing</td>\n",
       "      <td>313.64</td>\n",
       "    </tr>\n",
       "    <tr>\n",
       "      <th>996</th>\n",
       "      <td>997</td>\n",
       "      <td>23</td>\n",
       "      <td>Other</td>\n",
       "      <td>65337</td>\n",
       "      <td>76</td>\n",
       "      <td>10</td>\n",
       "      <td>23</td>\n",
       "      <td>Groceries</td>\n",
       "      <td>632.83</td>\n",
       "    </tr>\n",
       "    <tr>\n",
       "      <th>997</th>\n",
       "      <td>998</td>\n",
       "      <td>23</td>\n",
       "      <td>Male</td>\n",
       "      <td>113097</td>\n",
       "      <td>40</td>\n",
       "      <td>5</td>\n",
       "      <td>42</td>\n",
       "      <td>Sports</td>\n",
       "      <td>75.09</td>\n",
       "    </tr>\n",
       "    <tr>\n",
       "      <th>998</th>\n",
       "      <td>999</td>\n",
       "      <td>22</td>\n",
       "      <td>Female</td>\n",
       "      <td>113695</td>\n",
       "      <td>63</td>\n",
       "      <td>7</td>\n",
       "      <td>44</td>\n",
       "      <td>Electronics</td>\n",
       "      <td>505.16</td>\n",
       "    </tr>\n",
       "    <tr>\n",
       "      <th>999</th>\n",
       "      <td>1000</td>\n",
       "      <td>36</td>\n",
       "      <td>Female</td>\n",
       "      <td>90420</td>\n",
       "      <td>7</td>\n",
       "      <td>2</td>\n",
       "      <td>31</td>\n",
       "      <td>Groceries</td>\n",
       "      <td>669.26</td>\n",
       "    </tr>\n",
       "  </tbody>\n",
       "</table>\n",
       "<p>1000 rows × 9 columns</p>\n",
       "</div>"
      ],
      "text/plain": [
       "       id  age  gender  income  spending_score  membership_years  \\\n",
       "0       1   38  Female   99342              90                 3   \n",
       "1       2   21  Female   78852              60                 2   \n",
       "2       3   60  Female  126573              30                 2   \n",
       "3       4   40   Other   47099              74                 9   \n",
       "4       5   65  Female  140621              21                 3   \n",
       "..    ...  ...     ...     ...             ...               ...   \n",
       "995   996   57    Male  112170              57                 6   \n",
       "996   997   23   Other   65337              76                10   \n",
       "997   998   23    Male  113097              40                 5   \n",
       "998   999   22  Female  113695              63                 7   \n",
       "999  1000   36  Female   90420               7                 2   \n",
       "\n",
       "     purchase_frequency preferred_category  last_purchase_amount  \n",
       "0                    24          Groceries                113.53  \n",
       "1                    42             Sports                 41.93  \n",
       "2                    28           Clothing                424.36  \n",
       "3                     5      Home & Garden                991.93  \n",
       "4                    25        Electronics                347.08  \n",
       "..                  ...                ...                   ...  \n",
       "995                   1           Clothing                313.64  \n",
       "996                  23          Groceries                632.83  \n",
       "997                  42             Sports                 75.09  \n",
       "998                  44        Electronics                505.16  \n",
       "999                  31          Groceries                669.26  \n",
       "\n",
       "[1000 rows x 9 columns]"
      ]
     },
     "execution_count": 28,
     "metadata": {},
     "output_type": "execute_result"
    }
   ],
   "source": [
    "df = pd.read_csv('./customer_segmentation_data.csv')\n",
    "df"
   ]
  },
  {
   "cell_type": "markdown",
   "metadata": {},
   "source": [
    "2.查看資料集資相關資訊"
   ]
  },
  {
   "cell_type": "code",
   "execution_count": 29,
   "metadata": {},
   "outputs": [
    {
     "name": "stdout",
     "output_type": "stream",
     "text": [
      "<class 'pandas.core.frame.DataFrame'>\n",
      "RangeIndex: 1000 entries, 0 to 999\n",
      "Data columns (total 9 columns):\n",
      " #   Column                Non-Null Count  Dtype  \n",
      "---  ------                --------------  -----  \n",
      " 0   id                    1000 non-null   int64  \n",
      " 1   age                   1000 non-null   int64  \n",
      " 2   gender                1000 non-null   object \n",
      " 3   income                1000 non-null   int64  \n",
      " 4   spending_score        1000 non-null   int64  \n",
      " 5   membership_years      1000 non-null   int64  \n",
      " 6   purchase_frequency    1000 non-null   int64  \n",
      " 7   preferred_category    1000 non-null   object \n",
      " 8   last_purchase_amount  1000 non-null   float64\n",
      "dtypes: float64(1), int64(6), object(2)\n",
      "memory usage: 70.4+ KB\n"
     ]
    }
   ],
   "source": [
    "df.info()\n",
    "#income 購買金額累積\n",
    "#spending_score 支出分數 消費評分（1-100），顯示顧客的消費行為和忠誠度\n",
    "#membership_years 會員年數\n",
    "#purchase_frequency 購買頻率 顧客去年的購買次數\n",
    "#preferred_category 首選類別 首選購物類別（電子產品、服裝、雜貨、家居和園藝、體育）\n",
    "#last_purchase_amount 最後購買金額 客戶上次購買時花費的金額（以美元為單位）"
   ]
  },
  {
   "cell_type": "markdown",
   "metadata": {},
   "source": [
    "3.是否有遺漏值"
   ]
  },
  {
   "cell_type": "code",
   "execution_count": 30,
   "metadata": {},
   "outputs": [
    {
     "data": {
      "text/plain": [
       "id                      0\n",
       "age                     0\n",
       "gender                  0\n",
       "income                  0\n",
       "spending_score          0\n",
       "membership_years        0\n",
       "purchase_frequency      0\n",
       "preferred_category      0\n",
       "last_purchase_amount    0\n",
       "dtype: int64"
      ]
     },
     "execution_count": 30,
     "metadata": {},
     "output_type": "execute_result"
    }
   ],
   "source": [
    "df.isnull().sum()"
   ]
  },
  {
   "cell_type": "markdown",
   "metadata": {},
   "source": [
    "4.各欄位最大最小平均數等相關數值範圍"
   ]
  },
  {
   "cell_type": "code",
   "execution_count": 31,
   "metadata": {},
   "outputs": [
    {
     "data": {
      "text/html": [
       "<div>\n",
       "<style scoped>\n",
       "    .dataframe tbody tr th:only-of-type {\n",
       "        vertical-align: middle;\n",
       "    }\n",
       "\n",
       "    .dataframe tbody tr th {\n",
       "        vertical-align: top;\n",
       "    }\n",
       "\n",
       "    .dataframe thead tr th {\n",
       "        text-align: left;\n",
       "    }\n",
       "\n",
       "    .dataframe thead tr:last-of-type th {\n",
       "        text-align: right;\n",
       "    }\n",
       "</style>\n",
       "<table border=\"1\" class=\"dataframe\">\n",
       "  <thead>\n",
       "    <tr>\n",
       "      <th></th>\n",
       "      <th colspan=\"8\" halign=\"left\">income</th>\n",
       "      <th colspan=\"2\" halign=\"left\">spending_score</th>\n",
       "      <th>...</th>\n",
       "      <th colspan=\"2\" halign=\"left\">purchase_frequency</th>\n",
       "      <th colspan=\"8\" halign=\"left\">last_purchase_amount</th>\n",
       "    </tr>\n",
       "    <tr>\n",
       "      <th></th>\n",
       "      <th>count</th>\n",
       "      <th>mean</th>\n",
       "      <th>std</th>\n",
       "      <th>min</th>\n",
       "      <th>25%</th>\n",
       "      <th>50%</th>\n",
       "      <th>75%</th>\n",
       "      <th>max</th>\n",
       "      <th>count</th>\n",
       "      <th>mean</th>\n",
       "      <th>...</th>\n",
       "      <th>75%</th>\n",
       "      <th>max</th>\n",
       "      <th>count</th>\n",
       "      <th>mean</th>\n",
       "      <th>std</th>\n",
       "      <th>min</th>\n",
       "      <th>25%</th>\n",
       "      <th>50%</th>\n",
       "      <th>75%</th>\n",
       "      <th>max</th>\n",
       "    </tr>\n",
       "    <tr>\n",
       "      <th>gender</th>\n",
       "      <th></th>\n",
       "      <th></th>\n",
       "      <th></th>\n",
       "      <th></th>\n",
       "      <th></th>\n",
       "      <th></th>\n",
       "      <th></th>\n",
       "      <th></th>\n",
       "      <th></th>\n",
       "      <th></th>\n",
       "      <th></th>\n",
       "      <th></th>\n",
       "      <th></th>\n",
       "      <th></th>\n",
       "      <th></th>\n",
       "      <th></th>\n",
       "      <th></th>\n",
       "      <th></th>\n",
       "      <th></th>\n",
       "      <th></th>\n",
       "      <th></th>\n",
       "    </tr>\n",
       "  </thead>\n",
       "  <tbody>\n",
       "    <tr>\n",
       "      <th>Female</th>\n",
       "      <td>316.0</td>\n",
       "      <td>88018.104430</td>\n",
       "      <td>32930.663360</td>\n",
       "      <td>30074.0</td>\n",
       "      <td>58665.0</td>\n",
       "      <td>86801.5</td>\n",
       "      <td>115610.25</td>\n",
       "      <td>149744.0</td>\n",
       "      <td>316.0</td>\n",
       "      <td>51.696203</td>\n",
       "      <td>...</td>\n",
       "      <td>38.0</td>\n",
       "      <td>50.0</td>\n",
       "      <td>316.0</td>\n",
       "      <td>458.018892</td>\n",
       "      <td>291.564846</td>\n",
       "      <td>11.01</td>\n",
       "      <td>205.2525</td>\n",
       "      <td>420.555</td>\n",
       "      <td>690.6825</td>\n",
       "      <td>999.74</td>\n",
       "    </tr>\n",
       "    <tr>\n",
       "      <th>Male</th>\n",
       "      <td>357.0</td>\n",
       "      <td>88907.997199</td>\n",
       "      <td>36292.373050</td>\n",
       "      <td>30004.0</td>\n",
       "      <td>54918.0</td>\n",
       "      <td>89688.0</td>\n",
       "      <td>120294.00</td>\n",
       "      <td>149973.0</td>\n",
       "      <td>357.0</td>\n",
       "      <td>48.778711</td>\n",
       "      <td>...</td>\n",
       "      <td>40.0</td>\n",
       "      <td>50.0</td>\n",
       "      <td>357.0</td>\n",
       "      <td>496.090112</td>\n",
       "      <td>305.276610</td>\n",
       "      <td>12.36</td>\n",
       "      <td>208.7900</td>\n",
       "      <td>491.640</td>\n",
       "      <td>755.6700</td>\n",
       "      <td>997.15</td>\n",
       "    </tr>\n",
       "    <tr>\n",
       "      <th>Other</th>\n",
       "      <td>327.0</td>\n",
       "      <td>88522.703364</td>\n",
       "      <td>33228.407601</td>\n",
       "      <td>30058.0</td>\n",
       "      <td>60328.0</td>\n",
       "      <td>87418.0</td>\n",
       "      <td>114818.00</td>\n",
       "      <td>149741.0</td>\n",
       "      <td>327.0</td>\n",
       "      <td>51.788991</td>\n",
       "      <td>...</td>\n",
       "      <td>39.0</td>\n",
       "      <td>50.0</td>\n",
       "      <td>327.0</td>\n",
       "      <td>521.438930</td>\n",
       "      <td>286.548628</td>\n",
       "      <td>10.40</td>\n",
       "      <td>272.4300</td>\n",
       "      <td>547.850</td>\n",
       "      <td>766.7200</td>\n",
       "      <td>997.24</td>\n",
       "    </tr>\n",
       "  </tbody>\n",
       "</table>\n",
       "<p>3 rows × 40 columns</p>\n",
       "</div>"
      ],
      "text/plain": [
       "       income                                                         \\\n",
       "        count          mean           std      min      25%      50%   \n",
       "gender                                                                 \n",
       "Female  316.0  88018.104430  32930.663360  30074.0  58665.0  86801.5   \n",
       "Male    357.0  88907.997199  36292.373050  30004.0  54918.0  89688.0   \n",
       "Other   327.0  88522.703364  33228.407601  30058.0  60328.0  87418.0   \n",
       "\n",
       "                            spending_score             ... purchase_frequency  \\\n",
       "              75%       max          count       mean  ...                75%   \n",
       "gender                                                 ...                      \n",
       "Female  115610.25  149744.0          316.0  51.696203  ...               38.0   \n",
       "Male    120294.00  149973.0          357.0  48.778711  ...               40.0   \n",
       "Other   114818.00  149741.0          327.0  51.788991  ...               39.0   \n",
       "\n",
       "             last_purchase_amount                                           \\\n",
       "         max                count        mean         std    min       25%   \n",
       "gender                                                                       \n",
       "Female  50.0                316.0  458.018892  291.564846  11.01  205.2525   \n",
       "Male    50.0                357.0  496.090112  305.276610  12.36  208.7900   \n",
       "Other   50.0                327.0  521.438930  286.548628  10.40  272.4300   \n",
       "\n",
       "                                   \n",
       "            50%       75%     max  \n",
       "gender                             \n",
       "Female  420.555  690.6825  999.74  \n",
       "Male    491.640  755.6700  997.15  \n",
       "Other   547.850  766.7200  997.24  \n",
       "\n",
       "[3 rows x 40 columns]"
      ]
     },
     "execution_count": 31,
     "metadata": {},
     "output_type": "execute_result"
    }
   ],
   "source": [
    "gender_describe = df.groupby('gender')[['income', 'spending_score', 'membership_years', 'purchase_frequency', 'last_purchase_amount']].describe()\n",
    "gender_describe"
   ]
  },
  {
   "cell_type": "markdown",
   "metadata": {},
   "source": [
    "5.單一欄位各數計算"
   ]
  },
  {
   "cell_type": "code",
   "execution_count": 32,
   "metadata": {},
   "outputs": [
    {
     "data": {
      "text/plain": [
       "gender\n",
       "Male      357\n",
       "Other     327\n",
       "Female    316\n",
       "Name: count, dtype: int64"
      ]
     },
     "execution_count": 32,
     "metadata": {},
     "output_type": "execute_result"
    }
   ],
   "source": [
    "#計算每個性別的客戶數量\n",
    "gender_count = df['gender'].value_counts()\n",
    "gender_count"
   ]
  },
  {
   "cell_type": "markdown",
   "metadata": {},
   "source": [
    "6.透過groupby合併計算欄位的平均"
   ]
  },
  {
   "cell_type": "code",
   "execution_count": 33,
   "metadata": {},
   "outputs": [
    {
     "data": {
      "text/html": [
       "<div>\n",
       "<style scoped>\n",
       "    .dataframe tbody tr th:only-of-type {\n",
       "        vertical-align: middle;\n",
       "    }\n",
       "\n",
       "    .dataframe tbody tr th {\n",
       "        vertical-align: top;\n",
       "    }\n",
       "\n",
       "    .dataframe thead th {\n",
       "        text-align: right;\n",
       "    }\n",
       "</style>\n",
       "<table border=\"1\" class=\"dataframe\">\n",
       "  <thead>\n",
       "    <tr style=\"text-align: right;\">\n",
       "      <th></th>\n",
       "      <th>age</th>\n",
       "      <th>income</th>\n",
       "      <th>spending_score</th>\n",
       "      <th>membership_years</th>\n",
       "      <th>purchase_frequency</th>\n",
       "      <th>last_purchase_amount</th>\n",
       "    </tr>\n",
       "    <tr>\n",
       "      <th>gender</th>\n",
       "      <th></th>\n",
       "      <th></th>\n",
       "      <th></th>\n",
       "      <th></th>\n",
       "      <th></th>\n",
       "      <th></th>\n",
       "    </tr>\n",
       "  </thead>\n",
       "  <tbody>\n",
       "    <tr>\n",
       "      <th>Female</th>\n",
       "      <td>43.88</td>\n",
       "      <td>88018.1</td>\n",
       "      <td>51.70</td>\n",
       "      <td>5.32</td>\n",
       "      <td>25.42</td>\n",
       "      <td>458.02</td>\n",
       "    </tr>\n",
       "    <tr>\n",
       "      <th>Male</th>\n",
       "      <td>42.43</td>\n",
       "      <td>88908.0</td>\n",
       "      <td>48.78</td>\n",
       "      <td>5.57</td>\n",
       "      <td>28.30</td>\n",
       "      <td>496.09</td>\n",
       "    </tr>\n",
       "    <tr>\n",
       "      <th>Other</th>\n",
       "      <td>45.17</td>\n",
       "      <td>88522.7</td>\n",
       "      <td>51.79</td>\n",
       "      <td>5.51</td>\n",
       "      <td>25.87</td>\n",
       "      <td>521.44</td>\n",
       "    </tr>\n",
       "  </tbody>\n",
       "</table>\n",
       "</div>"
      ],
      "text/plain": [
       "          age   income  spending_score  membership_years  purchase_frequency  \\\n",
       "gender                                                                         \n",
       "Female  43.88  88018.1           51.70              5.32               25.42   \n",
       "Male    42.43  88908.0           48.78              5.57               28.30   \n",
       "Other   45.17  88522.7           51.79              5.51               25.87   \n",
       "\n",
       "        last_purchase_amount  \n",
       "gender                        \n",
       "Female                458.02  \n",
       "Male                  496.09  \n",
       "Other                 521.44  "
      ]
     },
     "execution_count": 33,
     "metadata": {},
     "output_type": "execute_result"
    }
   ],
   "source": [
    "#分析不同性別的平均年齡、收入、消費得分等\n",
    "gender_mean = df.groupby('gender')[['age', 'income', 'spending_score', 'membership_years', 'purchase_frequency', 'last_purchase_amount']].mean()\n",
    "gender_mean.round(2)"
   ]
  },
  {
   "cell_type": "markdown",
   "metadata": {},
   "source": [
    "7.使用seaborn繪製相關圖表"
   ]
  },
  {
   "cell_type": "code",
   "execution_count": 34,
   "metadata": {},
   "outputs": [
    {
     "data": {
      "image/png": "[encoded data removed]",
      "text/plain": [
       "<Figure size 640x480 with 1 Axes>"
      ]
     },
     "metadata": {},
     "output_type": "display_data"
    }
   ],
   "source": [
    "colors = sns.color_palette(\"bright\")\n",
    "plt.pie(gender_count, colors=colors, autopct=\"%0.0f%%\")\n",
    "plt.title(\"Box Plot for gender\")\n",
    "plt.show()"
   ]
  },
  {
   "cell_type": "code",
   "execution_count": 35,
   "metadata": {},
   "outputs": [],
   "source": [
    "male_df = df[df['gender'] == 'Male']\n",
    "female_df = df[df['gender'] == 'Female']\n",
    "others_df = df[df['gender'] == 'Other']"
   ]
  },
  {
   "cell_type": "code",
   "execution_count": 36,
   "metadata": {},
   "outputs": [
    {
     "data": {
      "image/png": "[encoded data removed]",
      "text/plain": [
       "<Figure size 1500x600 with 1 Axes>"
      ]
     },
     "metadata": {},
     "output_type": "display_data"
    }
   ],
   "source": [
    "plt.figure(figsize=(15, 6))\n",
    "sns.countplot(data = male_df, x='age', hue='gender', palette='pastel')\n",
    "plt.title('Age Distribution by Gender')\n",
    "plt.xlabel('Age')\n",
    "plt.ylabel('Count')\n",
    "plt.legend(title='Gender')\n",
    "plt.show()"
   ]
  },
  {
   "cell_type": "code",
   "execution_count": 37,
   "metadata": {},
   "outputs": [
    {
     "data": {
      "image/png": "[encoded data removed]",
      "text/plain": [
       "<Figure size 1500x600 with 1 Axes>"
      ]
     },
     "metadata": {},
     "output_type": "display_data"
    }
   ],
   "source": [
    "plt.figure(figsize=(15, 6))\n",
    "sns.countplot(data = female_df, x='age', hue='gender', palette='pastel')\n",
    "plt.title('Age Distribution by Gender')\n",
    "plt.xlabel('Age')\n",
    "plt.ylabel('Count')\n",
    "plt.legend(title='Gender')\n",
    "plt.show()"
   ]
  },
  {
   "cell_type": "code",
   "execution_count": 38,
   "metadata": {},
   "outputs": [
    {
     "data": {
      "image/png": "[encoded data removed]",
      "text/plain": [
       "<Figure size 1500x600 with 1 Axes>"
      ]
     },
     "metadata": {},
     "output_type": "display_data"
    }
   ],
   "source": [
    "plt.figure(figsize=(15, 6))\n",
    "sns.countplot(data = others_df, x='age', hue='gender', palette='pastel')\n",
    "plt.title('Age Distribution by Gender')\n",
    "plt.xlabel('Age')\n",
    "plt.ylabel('Count')\n",
    "plt.legend(title='Gender')\n",
    "plt.show()"
   ]
  },
  {
   "cell_type": "markdown",
   "metadata": {},
   "source": [
    "8.以groupby合併計算欄位的最大最小及平均值"
   ]
  },
  {
   "cell_type": "code",
   "execution_count": 39,
   "metadata": {},
   "outputs": [
    {
     "ename": "KeyError",
     "evalue": "'agegroup'",
     "output_type": "error",
     "traceback": [
      "\u001b[1;31m---------------------------------------------------------------------------\u001b[0m",
      "\u001b[1;31mKeyError\u001b[0m                                  Traceback (most recent call last)",
      "Cell \u001b[1;32mIn[39], line 7\u001b[0m\n\u001b[0;32m      4\u001b[0m df[\u001b[38;5;124m'\u001b[39m\u001b[38;5;124mage_group\u001b[39m\u001b[38;5;124m'\u001b[39m] \u001b[38;5;241m=\u001b[39m pd\u001b[38;5;241m.\u001b[39mcut(df[\u001b[38;5;124m'\u001b[39m\u001b[38;5;124mage\u001b[39m\u001b[38;5;124m'\u001b[39m], bins \u001b[38;5;241m=\u001b[39m bins, labels \u001b[38;5;241m=\u001b[39m labels, right \u001b[38;5;241m=\u001b[39m \u001b[38;5;28;01mFalse\u001b[39;00m)\n\u001b[0;32m      6\u001b[0m \u001b[38;5;66;03m# 分析每個年齡段的收入、消費得分\u001b[39;00m\n\u001b[1;32m----> 7\u001b[0m age_group_stats \u001b[38;5;241m=\u001b[39m \u001b[43mdf\u001b[49m\u001b[38;5;241;43m.\u001b[39;49m\u001b[43mgroupby\u001b[49m\u001b[43m(\u001b[49m\u001b[38;5;124;43m'\u001b[39;49m\u001b[38;5;124;43magegroup\u001b[39;49m\u001b[38;5;124;43m'\u001b[39;49m\u001b[43m)\u001b[49m\u001b[38;5;241m.\u001b[39magg({\u001b[38;5;124m'\u001b[39m\u001b[38;5;124mincome\u001b[39m\u001b[38;5;124m'\u001b[39m: [\u001b[38;5;124m'\u001b[39m\u001b[38;5;124mmax\u001b[39m\u001b[38;5;124m'\u001b[39m, \u001b[38;5;124m'\u001b[39m\u001b[38;5;124mmedian\u001b[39m\u001b[38;5;124m'\u001b[39m, \u001b[38;5;124m'\u001b[39m\u001b[38;5;124mmin\u001b[39m\u001b[38;5;124m'\u001b[39m, \u001b[38;5;124m'\u001b[39m\u001b[38;5;124mmean\u001b[39m\u001b[38;5;124m'\u001b[39m],\u001b[38;5;124m'\u001b[39m\u001b[38;5;124mspending_score\u001b[39m\u001b[38;5;124m'\u001b[39m: [\u001b[38;5;124m'\u001b[39m\u001b[38;5;124mmax\u001b[39m\u001b[38;5;124m'\u001b[39m, \u001b[38;5;124m'\u001b[39m\u001b[38;5;124mmedian\u001b[39m\u001b[38;5;124m'\u001b[39m, \u001b[38;5;124m'\u001b[39m\u001b[38;5;124mmin\u001b[39m\u001b[38;5;124m'\u001b[39m, \u001b[38;5;124m'\u001b[39m\u001b[38;5;124mmean\u001b[39m\u001b[38;5;124m'\u001b[39m]})\u001b[38;5;241m.\u001b[39mreset_index()\n\u001b[0;32m      8\u001b[0m age_group_stats\n",
      "File \u001b[1;32mc:\\Users\\Jay\\anaconda3\\lib\\site-packages\\pandas\\core\\frame.py:8872\u001b[0m, in \u001b[0;36mDataFrame.groupby\u001b[1;34m(self, by, axis, level, as_index, sort, group_keys, observed, dropna)\u001b[0m\n\u001b[0;32m   8869\u001b[0m \u001b[38;5;28;01mif\u001b[39;00m level \u001b[38;5;129;01mis\u001b[39;00m \u001b[38;5;28;01mNone\u001b[39;00m \u001b[38;5;129;01mand\u001b[39;00m by \u001b[38;5;129;01mis\u001b[39;00m \u001b[38;5;28;01mNone\u001b[39;00m:\n\u001b[0;32m   8870\u001b[0m     \u001b[38;5;28;01mraise\u001b[39;00m \u001b[38;5;167;01mTypeError\u001b[39;00m(\u001b[38;5;124m\"\u001b[39m\u001b[38;5;124mYou have to supply one of \u001b[39m\u001b[38;5;124m'\u001b[39m\u001b[38;5;124mby\u001b[39m\u001b[38;5;124m'\u001b[39m\u001b[38;5;124m and \u001b[39m\u001b[38;5;124m'\u001b[39m\u001b[38;5;124mlevel\u001b[39m\u001b[38;5;124m'\u001b[39m\u001b[38;5;124m\"\u001b[39m)\n\u001b[1;32m-> 8872\u001b[0m \u001b[38;5;28;01mreturn\u001b[39;00m \u001b[43mDataFrameGroupBy\u001b[49m\u001b[43m(\u001b[49m\n\u001b[0;32m   8873\u001b[0m \u001b[43m    \u001b[49m\u001b[43mobj\u001b[49m\u001b[38;5;241;43m=\u001b[39;49m\u001b[38;5;28;43mself\u001b[39;49m\u001b[43m,\u001b[49m\n\u001b[0;32m   8874\u001b[0m \u001b[43m    \u001b[49m\u001b[43mkeys\u001b[49m\u001b[38;5;241;43m=\u001b[39;49m\u001b[43mby\u001b[49m\u001b[43m,\u001b[49m\n\u001b[0;32m   8875\u001b[0m \u001b[43m    \u001b[49m\u001b[43maxis\u001b[49m\u001b[38;5;241;43m=\u001b[39;49m\u001b[43maxis\u001b[49m\u001b[43m,\u001b[49m\n\u001b[0;32m   8876\u001b[0m \u001b[43m    \u001b[49m\u001b[43mlevel\u001b[49m\u001b[38;5;241;43m=\u001b[39;49m\u001b[43mlevel\u001b[49m\u001b[43m,\u001b[49m\n\u001b[0;32m   8877\u001b[0m \u001b[43m    \u001b[49m\u001b[43mas_index\u001b[49m\u001b[38;5;241;43m=\u001b[39;49m\u001b[43mas_index\u001b[49m\u001b[43m,\u001b[49m\n\u001b[0;32m   8878\u001b[0m \u001b[43m    \u001b[49m\u001b[43msort\u001b[49m\u001b[38;5;241;43m=\u001b[39;49m\u001b[43msort\u001b[49m\u001b[43m,\u001b[49m\n\u001b[0;32m   8879\u001b[0m \u001b[43m    \u001b[49m\u001b[43mgroup_keys\u001b[49m\u001b[38;5;241;43m=\u001b[39;49m\u001b[43mgroup_keys\u001b[49m\u001b[43m,\u001b[49m\n\u001b[0;32m   8880\u001b[0m \u001b[43m    \u001b[49m\u001b[43mobserved\u001b[49m\u001b[38;5;241;43m=\u001b[39;49m\u001b[43mobserved\u001b[49m\u001b[43m,\u001b[49m\n\u001b[0;32m   8881\u001b[0m \u001b[43m    \u001b[49m\u001b[43mdropna\u001b[49m\u001b[38;5;241;43m=\u001b[39;49m\u001b[43mdropna\u001b[49m\u001b[43m,\u001b[49m\n\u001b[0;32m   8882\u001b[0m \u001b[43m\u001b[49m\u001b[43m)\u001b[49m\n",
      "File \u001b[1;32mc:\\Users\\Jay\\anaconda3\\lib\\site-packages\\pandas\\core\\groupby\\groupby.py:1273\u001b[0m, in \u001b[0;36mGroupBy.__init__\u001b[1;34m(self, obj, keys, axis, level, grouper, exclusions, selection, as_index, sort, group_keys, observed, dropna)\u001b[0m\n\u001b[0;32m   1270\u001b[0m \u001b[38;5;28mself\u001b[39m\u001b[38;5;241m.\u001b[39mdropna \u001b[38;5;241m=\u001b[39m dropna\n\u001b[0;32m   1272\u001b[0m \u001b[38;5;28;01mif\u001b[39;00m grouper \u001b[38;5;129;01mis\u001b[39;00m \u001b[38;5;28;01mNone\u001b[39;00m:\n\u001b[1;32m-> 1273\u001b[0m     grouper, exclusions, obj \u001b[38;5;241m=\u001b[39m \u001b[43mget_grouper\u001b[49m\u001b[43m(\u001b[49m\n\u001b[0;32m   1274\u001b[0m \u001b[43m        \u001b[49m\u001b[43mobj\u001b[49m\u001b[43m,\u001b[49m\n\u001b[0;32m   1275\u001b[0m \u001b[43m        \u001b[49m\u001b[43mkeys\u001b[49m\u001b[43m,\u001b[49m\n\u001b[0;32m   1276\u001b[0m \u001b[43m        \u001b[49m\u001b[43maxis\u001b[49m\u001b[38;5;241;43m=\u001b[39;49m\u001b[43maxis\u001b[49m\u001b[43m,\u001b[49m\n\u001b[0;32m   1277\u001b[0m \u001b[43m        \u001b[49m\u001b[43mlevel\u001b[49m\u001b[38;5;241;43m=\u001b[39;49m\u001b[43mlevel\u001b[49m\u001b[43m,\u001b[49m\n\u001b[0;32m   1278\u001b[0m \u001b[43m        \u001b[49m\u001b[43msort\u001b[49m\u001b[38;5;241;43m=\u001b[39;49m\u001b[43msort\u001b[49m\u001b[43m,\u001b[49m\n\u001b[0;32m   1279\u001b[0m \u001b[43m        \u001b[49m\u001b[43mobserved\u001b[49m\u001b[38;5;241;43m=\u001b[39;49m\u001b[38;5;28;43;01mFalse\u001b[39;49;00m\u001b[43m \u001b[49m\u001b[38;5;28;43;01mif\u001b[39;49;00m\u001b[43m \u001b[49m\u001b[43mobserved\u001b[49m\u001b[43m \u001b[49m\u001b[38;5;129;43;01mis\u001b[39;49;00m\u001b[43m \u001b[49m\u001b[43mlib\u001b[49m\u001b[38;5;241;43m.\u001b[39;49m\u001b[43mno_default\u001b[49m\u001b[43m \u001b[49m\u001b[38;5;28;43;01melse\u001b[39;49;00m\u001b[43m \u001b[49m\u001b[43mobserved\u001b[49m\u001b[43m,\u001b[49m\n\u001b[0;32m   1280\u001b[0m \u001b[43m        \u001b[49m\u001b[43mdropna\u001b[49m\u001b[38;5;241;43m=\u001b[39;49m\u001b[38;5;28;43mself\u001b[39;49m\u001b[38;5;241;43m.\u001b[39;49m\u001b[43mdropna\u001b[49m\u001b[43m,\u001b[49m\n\u001b[0;32m   1281\u001b[0m \u001b[43m    \u001b[49m\u001b[43m)\u001b[49m\n\u001b[0;32m   1283\u001b[0m \u001b[38;5;28;01mif\u001b[39;00m observed \u001b[38;5;129;01mis\u001b[39;00m lib\u001b[38;5;241m.\u001b[39mno_default:\n\u001b[0;32m   1284\u001b[0m     \u001b[38;5;28;01mif\u001b[39;00m \u001b[38;5;28many\u001b[39m(ping\u001b[38;5;241m.\u001b[39m_passed_categorical \u001b[38;5;28;01mfor\u001b[39;00m ping \u001b[38;5;129;01min\u001b[39;00m grouper\u001b[38;5;241m.\u001b[39mgroupings):\n",
      "File \u001b[1;32mc:\\Users\\Jay\\anaconda3\\lib\\site-packages\\pandas\\core\\groupby\\grouper.py:1009\u001b[0m, in \u001b[0;36mget_grouper\u001b[1;34m(obj, key, axis, level, sort, observed, validate, dropna)\u001b[0m\n\u001b[0;32m   1007\u001b[0m         in_axis, level, gpr \u001b[38;5;241m=\u001b[39m \u001b[38;5;28;01mFalse\u001b[39;00m, gpr, \u001b[38;5;28;01mNone\u001b[39;00m\n\u001b[0;32m   1008\u001b[0m     \u001b[38;5;28;01melse\u001b[39;00m:\n\u001b[1;32m-> 1009\u001b[0m         \u001b[38;5;28;01mraise\u001b[39;00m \u001b[38;5;167;01mKeyError\u001b[39;00m(gpr)\n\u001b[0;32m   1010\u001b[0m \u001b[38;5;28;01melif\u001b[39;00m \u001b[38;5;28misinstance\u001b[39m(gpr, Grouper) \u001b[38;5;129;01mand\u001b[39;00m gpr\u001b[38;5;241m.\u001b[39mkey \u001b[38;5;129;01mis\u001b[39;00m \u001b[38;5;129;01mnot\u001b[39;00m \u001b[38;5;28;01mNone\u001b[39;00m:\n\u001b[0;32m   1011\u001b[0m     \u001b[38;5;66;03m# Add key to exclusions\u001b[39;00m\n\u001b[0;32m   1012\u001b[0m     exclusions\u001b[38;5;241m.\u001b[39madd(gpr\u001b[38;5;241m.\u001b[39mkey)\n",
      "\u001b[1;31mKeyError\u001b[0m: 'agegroup'"
     ]
    }
   ],
   "source": [
    "# 將年齡分段\n",
    "bins = [0, 20, 30, 40, 50, 60, 70]\n",
    "labels = ['0-20', '21-30', '31-40', '41-50', '51-60', '61-70']\n",
    "df['age_group'] = pd.cut(df['age'], bins = bins, labels = labels, right = False)\n",
    "\n",
    "# 分析每個年齡段的收入、消費得分\n",
    "age_group_stats = df.groupby('agegroup').agg({'income': ['max', 'median', 'min', 'mean'],'spending_score': ['max', 'median', 'min', 'mean']}).reset_index()\n",
    "age_group_stats"
   ]
  },
  {
   "cell_type": "code",
   "execution_count": null,
   "metadata": {},
   "outputs": [
    {
     "name": "stderr",
     "output_type": "stream",
     "text": [
      "<ipython-input-17-b99a5983fccc>:3: FutureWarning: \n",
      "\n",
      "Passing `palette` without assigning `hue` is deprecated and will be removed in v0.14.0. Assign the `x` variable to `hue` and set `legend=False` for the same effect.\n",
      "\n",
      "  sns.countplot(data=df, x='agegroup', palette='pastel')\n"
     ]
    },
    {
     "data": {
      "image/png": "[encoded data removed]",
      "text/plain": [
       "<Figure size 1200x600 with 1 Axes>"
      ]
     },
     "metadata": {},
     "output_type": "display_data"
    }
   ],
   "source": [
    "# 繪製年齡分佈情況\n",
    "plt.figure(figsize=(12, 6))\n",
    "sns.countplot(data=df, x='agegroup', palette='pastel')\n",
    "plt.title('Age Distribution')\n",
    "plt.xlabel('Age Group')\n",
    "plt.ylabel('Count')\n",
    "plt.show()"
   ]
  },
  {
   "cell_type": "markdown",
   "metadata": {},
   "source": [
    "9.因後續進到power bi進行圖表繪製，依照標準新增一欄去分類哪些客戶為活躍的客戶"
   ]
  },
  {
   "cell_type": "code",
   "execution_count": null,
   "metadata": {},
   "outputs": [
    {
     "data": {
      "text/html": [
       "<div>\n",
       "<style scoped>\n",
       "    .dataframe tbody tr th:only-of-type {\n",
       "        vertical-align: middle;\n",
       "    }\n",
       "\n",
       "    .dataframe tbody tr th {\n",
       "        vertical-align: top;\n",
       "    }\n",
       "\n",
       "    .dataframe thead th {\n",
       "        text-align: right;\n",
       "    }\n",
       "</style>\n",
       "<table border=\"1\" class=\"dataframe\">\n",
       "  <thead>\n",
       "    <tr style=\"text-align: right;\">\n",
       "      <th></th>\n",
       "      <th>age</th>\n",
       "      <th>gender</th>\n",
       "      <th>income</th>\n",
       "      <th>spending_score</th>\n",
       "      <th>membership_years</th>\n",
       "      <th>purchase_frequency</th>\n",
       "      <th>preferred_category</th>\n",
       "      <th>last_purchase_amount</th>\n",
       "      <th>age_group</th>\n",
       "      <th>is_churn</th>\n",
       "    </tr>\n",
       "  </thead>\n",
       "  <tbody>\n",
       "    <tr>\n",
       "      <th>0</th>\n",
       "      <td>38</td>\n",
       "      <td>Female</td>\n",
       "      <td>99342</td>\n",
       "      <td>90</td>\n",
       "      <td>3</td>\n",
       "      <td>24</td>\n",
       "      <td>Groceries</td>\n",
       "      <td>113.53</td>\n",
       "      <td>31-40</td>\n",
       "      <td>False</td>\n",
       "    </tr>\n",
       "    <tr>\n",
       "      <th>1</th>\n",
       "      <td>21</td>\n",
       "      <td>Female</td>\n",
       "      <td>78852</td>\n",
       "      <td>60</td>\n",
       "      <td>2</td>\n",
       "      <td>42</td>\n",
       "      <td>Sports</td>\n",
       "      <td>41.93</td>\n",
       "      <td>21-30</td>\n",
       "      <td>False</td>\n",
       "    </tr>\n",
       "    <tr>\n",
       "      <th>2</th>\n",
       "      <td>60</td>\n",
       "      <td>Female</td>\n",
       "      <td>126573</td>\n",
       "      <td>30</td>\n",
       "      <td>2</td>\n",
       "      <td>28</td>\n",
       "      <td>Clothing</td>\n",
       "      <td>424.36</td>\n",
       "      <td>61-70</td>\n",
       "      <td>False</td>\n",
       "    </tr>\n",
       "    <tr>\n",
       "      <th>3</th>\n",
       "      <td>40</td>\n",
       "      <td>Other</td>\n",
       "      <td>47099</td>\n",
       "      <td>74</td>\n",
       "      <td>9</td>\n",
       "      <td>5</td>\n",
       "      <td>Home &amp; Garden</td>\n",
       "      <td>991.93</td>\n",
       "      <td>41-50</td>\n",
       "      <td>True</td>\n",
       "    </tr>\n",
       "    <tr>\n",
       "      <th>4</th>\n",
       "      <td>65</td>\n",
       "      <td>Female</td>\n",
       "      <td>140621</td>\n",
       "      <td>21</td>\n",
       "      <td>3</td>\n",
       "      <td>25</td>\n",
       "      <td>Electronics</td>\n",
       "      <td>347.08</td>\n",
       "      <td>61-70</td>\n",
       "      <td>False</td>\n",
       "    </tr>\n",
       "  </tbody>\n",
       "</table>\n",
       "</div>"
      ],
      "text/plain": [
       "   age  gender  income  spending_score  membership_years  purchase_frequency  \\\n",
       "0   38  Female   99342              90                 3                  24   \n",
       "1   21  Female   78852              60                 2                  42   \n",
       "2   60  Female  126573              30                 2                  28   \n",
       "3   40   Other   47099              74                 9                   5   \n",
       "4   65  Female  140621              21                 3                  25   \n",
       "\n",
       "  preferred_category  last_purchase_amount age_group  is_churn  \n",
       "0          Groceries                113.53     31-40     False  \n",
       "1             Sports                 41.93     21-30     False  \n",
       "2           Clothing                424.36     61-70     False  \n",
       "3      Home & Garden                991.93     41-50      True  \n",
       "4        Electronics                347.08     61-70     False  "
      ]
     },
     "execution_count": 93,
     "metadata": {},
     "output_type": "execute_result"
    }
   ],
   "source": [
    "# 定義購買頻率的閾值\n",
    "purchase_frequency_threshold = 15\n",
    "\n",
    "# 計算流失標記\n",
    "df['is_churn'] = df['purchase_frequency'] <= purchase_frequency_threshold\n",
    "\n",
    "# 顯示前幾行數據\n",
    "df.head()\n"
   ]
  },
  {
   "cell_type": "markdown",
   "metadata": {},
   "source": [
    "10.計算忠誠度的分數\n",
    "購買頻率（purchase_frequency）： 計算每個顧客在一段時間內的購買次數。頻率越高，分數越高。\n",
    "購買金額（income）： 計算每個顧客在一段時間內的總購買金額。金額越高，分數越高。\n",
    "會員年數（membership_years）： 計算每個顧客的會員年數。年數越長，分數越高。\n",
    "消費分數（spending_score）： 根據顧客的消費行為，給出一個分數，例如根據購買頻率、平均消費金額等。"
   ]
  },
  {
   "cell_type": "code",
   "execution_count": 40,
   "metadata": {},
   "outputs": [
    {
     "data": {
      "text/html": [
       "<div>\n",
       "<style scoped>\n",
       "    .dataframe tbody tr th:only-of-type {\n",
       "        vertical-align: middle;\n",
       "    }\n",
       "\n",
       "    .dataframe tbody tr th {\n",
       "        vertical-align: top;\n",
       "    }\n",
       "\n",
       "    .dataframe thead th {\n",
       "        text-align: right;\n",
       "    }\n",
       "</style>\n",
       "<table border=\"1\" class=\"dataframe\">\n",
       "  <thead>\n",
       "    <tr style=\"text-align: right;\">\n",
       "      <th></th>\n",
       "      <th>id</th>\n",
       "      <th>age</th>\n",
       "      <th>gender</th>\n",
       "      <th>income</th>\n",
       "      <th>spending_score</th>\n",
       "      <th>membership_years</th>\n",
       "      <th>purchase_frequency</th>\n",
       "      <th>preferred_category</th>\n",
       "      <th>last_purchase_amount</th>\n",
       "      <th>age_group</th>\n",
       "      <th>loyaltyscore</th>\n",
       "    </tr>\n",
       "  </thead>\n",
       "  <tbody>\n",
       "    <tr>\n",
       "      <th>0</th>\n",
       "      <td>1</td>\n",
       "      <td>38</td>\n",
       "      <td>Female</td>\n",
       "      <td>99342</td>\n",
       "      <td>90</td>\n",
       "      <td>3</td>\n",
       "      <td>24</td>\n",
       "      <td>Groceries</td>\n",
       "      <td>113.53</td>\n",
       "      <td>31-40</td>\n",
       "      <td>49.10130</td>\n",
       "    </tr>\n",
       "    <tr>\n",
       "      <th>1</th>\n",
       "      <td>2</td>\n",
       "      <td>21</td>\n",
       "      <td>Female</td>\n",
       "      <td>78852</td>\n",
       "      <td>60</td>\n",
       "      <td>2</td>\n",
       "      <td>42</td>\n",
       "      <td>Sports</td>\n",
       "      <td>41.93</td>\n",
       "      <td>21-30</td>\n",
       "      <td>55.42780</td>\n",
       "    </tr>\n",
       "    <tr>\n",
       "      <th>2</th>\n",
       "      <td>3</td>\n",
       "      <td>60</td>\n",
       "      <td>Female</td>\n",
       "      <td>126573</td>\n",
       "      <td>30</td>\n",
       "      <td>2</td>\n",
       "      <td>28</td>\n",
       "      <td>Clothing</td>\n",
       "      <td>424.36</td>\n",
       "      <td>61-70</td>\n",
       "      <td>48.38595</td>\n",
       "    </tr>\n",
       "    <tr>\n",
       "      <th>3</th>\n",
       "      <td>4</td>\n",
       "      <td>40</td>\n",
       "      <td>Other</td>\n",
       "      <td>47099</td>\n",
       "      <td>74</td>\n",
       "      <td>9</td>\n",
       "      <td>5</td>\n",
       "      <td>Home &amp; Garden</td>\n",
       "      <td>991.93</td>\n",
       "      <td>41-50</td>\n",
       "      <td>36.46485</td>\n",
       "    </tr>\n",
       "    <tr>\n",
       "      <th>4</th>\n",
       "      <td>5</td>\n",
       "      <td>65</td>\n",
       "      <td>Female</td>\n",
       "      <td>140621</td>\n",
       "      <td>21</td>\n",
       "      <td>3</td>\n",
       "      <td>25</td>\n",
       "      <td>Electronics</td>\n",
       "      <td>347.08</td>\n",
       "      <td>61-70</td>\n",
       "      <td>49.19315</td>\n",
       "    </tr>\n",
       "  </tbody>\n",
       "</table>\n",
       "</div>"
      ],
      "text/plain": [
       "   id  age  gender  income  spending_score  membership_years  \\\n",
       "0   1   38  Female   99342              90                 3   \n",
       "1   2   21  Female   78852              60                 2   \n",
       "2   3   60  Female  126573              30                 2   \n",
       "3   4   40   Other   47099              74                 9   \n",
       "4   5   65  Female  140621              21                 3   \n",
       "\n",
       "   purchase_frequency preferred_category  last_purchase_amount age_group  \\\n",
       "0                  24          Groceries                113.53     31-40   \n",
       "1                  42             Sports                 41.93     21-30   \n",
       "2                  28           Clothing                424.36     61-70   \n",
       "3                   5      Home & Garden                991.93     41-50   \n",
       "4                  25        Electronics                347.08     61-70   \n",
       "\n",
       "   loyaltyscore  \n",
       "0      49.10130  \n",
       "1      55.42780  \n",
       "2      48.38595  \n",
       "3      36.46485  \n",
       "4      49.19315  "
      ]
     },
     "execution_count": 40,
     "metadata": {},
     "output_type": "execute_result"
    }
   ],
   "source": [
    "data2 = df.copy()\n",
    "\n",
    "# 定義權重\n",
    "weight_frequency = 0.4\n",
    "weight_monetary = 0.3\n",
    "weight_tenure = 0.2\n",
    "weight_spending = 0.1\n",
    "\n",
    "# 定義最大值\n",
    "max_frequency = 50\n",
    "max_monetary = 200000\n",
    "max_tenure = 10\n",
    "\n",
    "# 計算各項指標的分數\n",
    "data2['Frequency_Score'] = (data2['purchase_frequency'] / max_frequency) * 100\n",
    "data2['Monetary_Score'] = (data2['income'] / max_monetary) * 100\n",
    "data2['Membership_Score'] = (data2['membership_years'] / max_tenure) * 100\n",
    "data2['Spending_Score'] = data2['spending_score']\n",
    "\n",
    "# 計算忠誠度分數\n",
    "data2['loyaltyscore'] = (\n",
    "    weight_frequency * data2['Frequency_Score'] +\n",
    "    weight_monetary * data2['Monetary_Score'] +\n",
    "    weight_tenure * data2['Membership_Score'] +\n",
    "    weight_spending * data2['Spending_Score']\n",
    ")\n",
    "\n",
    "df['loyaltyscore'] = data2['loyaltyscore']\n",
    "\n",
    "df.head()"
   ]
  },
  {
   "cell_type": "markdown",
   "metadata": {},
   "source": [
    "11.存成csv"
   ]
  },
  {
   "cell_type": "code",
   "execution_count": 41,
   "metadata": {},
   "outputs": [],
   "source": [
    "df.to_csv('./customer_segmentation_data_3.csv')"
   ]
  }
 ],
 "metadata": {
  "kernelspec": {
   "display_name": "base",
   "language": "python",
   "name": "python3"
  },
  "language_info": {
   "codemirror_mode": {
    "name": "ipython",
    "version": 3
   },
   "file_extension": ".py",
   "mimetype": "text/x-python",
   "name": "python",
   "nbconvert_exporter": "python",
   "pygments_lexer": "ipython3",
   "version": "3.9.16"
  }
 },
 "nbformat": 4,
 "nbformat_minor": 2
}
